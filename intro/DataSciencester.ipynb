{
  "nbformat": 4,
  "nbformat_minor": 0,
  "metadata": {
    "colab": {
      "name": "DataSciencester",
      "provenance": []
    },
    "kernelspec": {
      "name": "python3",
      "display_name": "Python 3"
    }
  },
  "cells": [
    {
      "cell_type": "code",
      "metadata": {
        "id": "u_vV3KPDl4Xq",
        "colab_type": "code",
        "colab": {
          "base_uri": "https://localhost:8080/",
          "height": 69
        },
        "outputId": "998614ae-d2d8-4abc-d823-9aadd20af004"
      },
      "source": [
        "from collections import Counter\n",
        "\n",
        "\n",
        "users = [{ \"id\" : 0, \"name\" : \"Hero\"},\n",
        "\t{\"id\" : 1, \"name\" : \"Dunn\"},\n",
        "\t{\"id\" : 2  ,\"name\" : \"Sue\"},\n",
        "\t{\"id\" : 3, \"name\" :\"Chi\"},\n",
        "   {\"id\" : 4, \"name\" : \"Thor\"},\n",
        "   {\"id\" : 5, \"name\" : \"Clive\"},\n",
        "   {\"id\" : 6, \"name\" : \"Hicks\"}]\n",
        "   \n",
        "friendship_pairs = [(0,1), (0,2), (1,2), (1,3), (2,3), (3,4), \n",
        "   (4,5), (5,6)]\n",
        "   \n",
        "friendships = {user[\"id\"]: [] for user in users}\n",
        "for i, j in friendship_pairs:\n",
        "   \tfriendships[i].append(j)\n",
        "   \tfriendships[j].append(i)\n",
        "   \t\n",
        "   \t\n",
        "def number_of_friends(user):\n",
        "   \t\"\"\" How many friends does _user_ have \"\"\"\n",
        "   \tuser_id = user[\"id\"]\n",
        "   \tfriends_ids = friendships[user_id]\n",
        "   \treturn len(friends_ids)\n",
        "   \t\n",
        "total_connections = sum(number_of_friends(user) for user in users)\n",
        "no_of_user = len(users)\n",
        "avg_conn = total_connections/no_of_user\n",
        "\n",
        "print(\"average connections of all the user \",avg_conn)\n",
        "\n",
        "num_friends_by_id = [(user[\"id\"], number_of_friends(user)) for user in users]  #loop and create pairs of id and num of friends\n",
        "num_friends_by_id.sort(key = lambda id_of_friends: id_of_friends[1],reverse= True) #sort based on based on number of friends\n",
        "\n",
        "def foaf_id_bad(user):\n",
        "\t\"\"\" find the connections of the user and then their connections \"\"\"\n",
        "\treturn [foaf_id \n",
        "\t\t\t\tfor friend_id in friendships[user[\"id\"]]\n",
        "\t\t\t\tfor foaf_id in friendships[friend_id]]\n",
        "\t\t\t\t\n",
        "print(\"connections of the user \", foaf_id_bad(users[0]))\n",
        "\n",
        "def friends_of_friends(user):\n",
        "\tuser_id = user[\"id\"]\n",
        "\treturn Counter(\n",
        "\tfoaf_id\n",
        "\tfor friend_id in friendships[user_id]\n",
        "\tfor foaf_id in friendships[friend_id]\n",
        "\tif foaf_id != user_id \n",
        "\tand foaf_id not in friendships[user_id]\n",
        "\t)\n",
        "\t\n",
        "print(\"friends of a friends of user \",friends_of_friends(users[3]))\t\n",
        "\n"
      ],
      "execution_count": null,
      "outputs": [
        {
          "output_type": "stream",
          "text": [
            "average connections of all the user  2.2857142857142856\n",
            "connections of the user  [0, 2, 3, 0, 1, 3]\n",
            "friends of a friends of user  Counter({0: 2, 5: 1})\n"
          ],
          "name": "stdout"
        }
      ]
    },
    {
      "cell_type": "code",
      "metadata": {
        "id": "sLwxuKT4mZrC",
        "colab_type": "code",
        "colab": {
          "base_uri": "https://localhost:8080/",
          "height": 35
        },
        "outputId": "34fd7893-e757-4774-b3db-6c6db38f8cae"
      },
      "source": [
        "interests = [\n",
        "(0,\"Hadoop\"),(0,\"Big Data\"),(0,\" HBase\"),(0, \"Java\"), (0,\"Spark\"), (0,\"Storm\"), (0,\" Cassandra\"),\n",
        "(1,\"No Sql\"),(1,\"MongoDb\"),(1,\" HBase\"), (1,\"Postgress\"),(1,\" Cassandra\"),\n",
        "(2, \"Scikit-learn\"), (2,\"Sci Py\"), (2,\"Numpy\"), (2,\"StatsModels\"), (2,\"Pandas\"),\n",
        "(3,\"R\"),(3, \"Python\"),(3,\"statistics\"),(3, \"regression\"),(3,\"Probability\"),\n",
        "(4,\"Machine learning\"),(4, \"regression\"),(4,\"Decision Trees\"),(4, \"libsvm\"),\n",
        "(5,\"R\"),(5, \"Python\"),(5,\"Java\"),(5, \"C++\"),(5,\"Haskell\"), (5, \"Programming languages\"),\n",
        "(6,\"theory\"),(6, \"mathematics\"),(6,\"Probability\"), (6, \"Statistics\")\n",
        "]\n",
        "\n",
        "#find persons with similiar interests\n",
        "def data_scientists_with_who_like(target_interest):\n",
        "\treturn [user_id for user_id, interest in interests\n",
        "\t\t\t\tif interest == target_interest]\n",
        "\t\t\t\t\n",
        "\t\t\t\t\n",
        "#keys are interests and values are user ids\t\t\t\t\n",
        "user_ids_by_interest = defaultdict(list)\n",
        "for user_id, interest in interests:\n",
        "\t user_ids_by_interest[interest].append(user_id)\n",
        "\n",
        "#keys are user ids and values are interests\n",
        "interests_by_user_id = defaultdict(list)\t\t\n",
        "for user_id,interest in interests:\n",
        "\tinterests_by_user_id[user_id].append(interest)\n",
        "\t\n",
        "\t\n",
        "def  most_common_interests_with(user):\n",
        "\treturn Counter(interested_user_id\n",
        "\tfor user_interests in interests_by_user_id[user[\"id\"]]\n",
        "    for interested_user_id in user_ids_by_interest[user_interests] if interested_user_id != user[\"id\"]\n",
        "\t)\n",
        "\t\n",
        "print(\"with most common interest with \",most_common_interests_with(users[0]))\t\t\t\t\t\n"
      ],
      "execution_count": null,
      "outputs": [
        {
          "output_type": "stream",
          "text": [
            "with most common interest with  Counter({1: 2, 5: 1})\n"
          ],
          "name": "stdout"
        }
      ]
    },
    {
      "cell_type": "code",
      "metadata": {
        "id": "8c5C0nJDmin-",
        "colab_type": "code",
        "colab": {
          "base_uri": "https://localhost:8080/",
          "height": 72
        },
        "outputId": "85f9de30-86fb-4f09-e7ee-584c0dd6ae52"
      },
      "source": [
        "from collections import defaultdict\n",
        "salaries_and_tenures = [(83000,8.7), (88000, 8.1),\n",
        "(48000, 0.7), (76000, 6),\n",
        "(69000, 6.5), (76000, 7.5),\n",
        "(60000, 2.5), (83000, 10),\n",
        "(48000, 1.9), (63000, 4.2)\n",
        "]\n",
        "\n",
        "#Keys are years, values are lists of salaries for each year\n",
        "salary_by_tenure = defaultdict(list)\n",
        "\n",
        "for salary, tenure in salaries_and_tenures:\n",
        "\tsalary_by_tenure[tenure].append(salary)\n",
        "\t\n",
        "#Keys are years and value is average salary\n",
        "avg_salary_by_tenure = {\n",
        "\ttenure : sum(salaries)/ len(salaries)\n",
        "\tfor tenure, salaries in salary_by_tenure.items()\n",
        "}\n",
        "\n",
        "print(\"average salary by tenure \", avg_salary_by_tenure)\n",
        "\n",
        "def tenure_bucket(tenure):\n",
        "\tif tenure < 2:\n",
        "\t\treturn \"less than two\"\n",
        "\telif tenure < 5:\n",
        "\t\treturn \"between 2 and 5\"\n",
        "\telse:\n",
        "\t\treturn \"greater than 5\"\n",
        "\n",
        "#keys are the bucket and values are the list of salaries falling in the bucket\n",
        "salary_by_tenure_bucket = defaultdict(list)\n",
        "\n",
        "for salary,tenure in salaries_and_tenures:\n",
        "\tbucket = tenure_bucket(tenure)\n",
        "\tsalary_by_tenure_bucket[bucket].append(salary)\t\t\t\t\t\t\t\t\n",
        "\n",
        "#keys are tenure buckets and values are the average salaries of that bucket\n",
        "avg_salary_by_bucket = {\n",
        "\tbucket : sum(salaries)/ len(salaries)\n",
        "\tfor bucket, salaries in salary_by_tenure_bucket.items()\n",
        "}\t\t\t\t\t\t\t\t\t\t\t\n",
        "\n",
        "print(\"average salary by tenure bucket \", avg_salary_by_bucket)\t\t\t\t\t"
      ],
      "execution_count": null,
      "outputs": [
        {
          "output_type": "stream",
          "text": [
            "average salary by tenure  {8.7: 83000.0, 8.1: 88000.0, 0.7: 48000.0, 6: 76000.0, 6.5: 69000.0, 7.5: 76000.0, 2.5: 60000.0, 10: 83000.0, 1.9: 48000.0, 4.2: 63000.0}\n",
            "average salary by tenure bucket  {'greater than 5': 79166.66666666667, 'less than two': 48000.0, 'between 2 and 5': 61500.0}\n"
          ],
          "name": "stdout"
        }
      ]
    },
    {
      "cell_type": "markdown",
      "metadata": {
        "id": "EkkBPhy-mY-h",
        "colab_type": "text"
      },
      "source": [
        ""
      ]
    }
  ]
}