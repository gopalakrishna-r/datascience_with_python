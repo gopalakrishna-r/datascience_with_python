{
  "nbformat": 4,
  "nbformat_minor": 0,
  "metadata": {
    "colab": {
      "name": "linear_alegabra",
      "provenance": []
    },
    "kernelspec": {
      "name": "python3",
      "display_name": "Python 3"
    }
  },
  "cells": [
    {
      "cell_type": "code",
      "metadata": {
        "id": "JZujhm03_r5f",
        "colab_type": "code",
        "colab": {}
      },
      "source": [
        "from typing import List\n",
        "Vector = List[float]\n",
        "height_weight_age = [70, #inches\n",
        "                     170, #pounds\n",
        "                     40] #years\n",
        "grades = [95, #exam 1\n",
        "          89, #exam2\n",
        "          75, #exam3\n",
        "          62] #exam4\n"
      ],
      "execution_count": null,
      "outputs": []
    },
    {
      "cell_type": "code",
      "metadata": {
        "id": "2HHd0VqMAE7T",
        "colab_type": "code",
        "colab": {}
      },
      "source": [
        "def add(v: Vector , w:Vector) -> Vector:\n",
        "  assert len(v) == len(w) , \"vectors must be of the same length\"\n",
        "  return [v_i + w_i for (v_i , w_i ) in zip(v,w)]\n",
        "assert add([1, 2, 3], [4, 5, 6]) == [5, 7, 9]"
      ],
      "execution_count": null,
      "outputs": []
    },
    {
      "cell_type": "code",
      "metadata": {
        "id": "zo0Qt_wiDWBS",
        "colab_type": "code",
        "colab": {}
      },
      "source": [
        "def subtract(v: Vector , w:Vector) -> Vector:\n",
        "  assert len(v) == len(w) , \"vectors must be of the same length\"\n",
        "  return [v_i - w_i for (v_i , w_i ) in zip(v,w)]\n",
        "assert subtract([5, 7, 9], [4, 5, 6]) == [1,2,3]"
      ],
      "execution_count": null,
      "outputs": []
    },
    {
      "cell_type": "code",
      "metadata": {
        "id": "fcMCmqGbDnCm",
        "colab_type": "code",
        "colab": {}
      },
      "source": [
        "def vector_sum(vectors: List[Vector]) -> Vector:\n",
        "  assert vectors, \"no vectors provided\"\n",
        " \n",
        "  num_elements = len(vectors[0])\n",
        "  assert all(len(v) == num_elements for v in vectors) , \"different sizes\"\n",
        "  return [sum(vector[i] for vector in vectors)\n",
        "   for i in range(num_elements)]\n",
        "assert vector_sum([[1,2], [3,4] , [5, 6], [7,8]]) == [16,20]"
      ],
      "execution_count": null,
      "outputs": []
    },
    {
      "cell_type": "markdown",
      "metadata": {
        "id": "FYwZUgI0Hm52",
        "colab_type": "text"
      },
      "source": [
        "multiply vector by a scalar"
      ]
    },
    {
      "cell_type": "code",
      "metadata": {
        "id": "BUTWVMQ9HrdJ",
        "colab_type": "code",
        "colab": {}
      },
      "source": [
        "def scalar_multiply(c: float, v:Vector) -> Vector:\n",
        "  return [c * v_i for v_i in v]\n",
        "assert scalar_multiply(2, [1,2]) == [2, 4] "
      ],
      "execution_count": null,
      "outputs": []
    },
    {
      "cell_type": "markdown",
      "metadata": {
        "id": "-ti4EQF6IQ0D",
        "colab_type": "text"
      },
      "source": [
        "elementwise average"
      ]
    },
    {
      "cell_type": "code",
      "metadata": {
        "id": "vsJO5fY9ITEe",
        "colab_type": "code",
        "colab": {}
      },
      "source": [
        "def vector_mean(vectors:List[Vector]) -> Vector:\n",
        "  num_elements = len(vectors)\n",
        "  return scalar_multiply(1/num_elements, vector_sum(vectors))\n",
        "assert vector_mean([[1,2], [3,4] , [5,6]]) == [3, 4] "
      ],
      "execution_count": null,
      "outputs": []
    },
    {
      "cell_type": "markdown",
      "metadata": {
        "id": "n8Q0LnLiMbwx",
        "colab_type": "text"
      },
      "source": [
        "dot product"
      ]
    },
    {
      "cell_type": "code",
      "metadata": {
        "id": "ly0kMyHYMeF-",
        "colab_type": "code",
        "colab": {}
      },
      "source": [
        "def dot(v: Vector , w:Vector) -> Vector:\n",
        "  assert len(v) == len(w) , \"different sizes\"\n",
        "  return (sum(v_i * w_i for(v_i, w_i) in zip(v,w)) )\n",
        "assert dot([1,2,3] , [4, 5, 6]) == 32"
      ],
      "execution_count": null,
      "outputs": []
    }
  ]
}