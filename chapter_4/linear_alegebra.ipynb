{
  "nbformat": 4,
  "nbformat_minor": 0,
  "metadata": {
    "colab": {
      "name": "linear_alegebra",
      "provenance": [],
      "collapsed_sections": [],
      "toc_visible": true
    },
    "kernelspec": {
      "name": "python3",
      "display_name": "Python 3"
    }
  },
  "cells": [
    {
      "cell_type": "markdown",
      "metadata": {
        "id": "OhT8pRUJ8fuE",
        "colab_type": "text"
      },
      "source": [
        "# vectors"
      ]
    },
    {
      "cell_type": "code",
      "metadata": {
        "id": "JZujhm03_r5f",
        "colab_type": "code",
        "colab": {}
      },
      "source": [
        "from typing import List\n",
        "Vector = List[float]\n",
        "height_weight_age = [70, #inches\n",
        "                     170, #pounds\n",
        "                     40] #years\n",
        "grades = [95, #exam 1\n",
        "          89, #exam2\n",
        "          75, #exam3\n",
        "          62] #exam4\n"
      ],
      "execution_count": null,
      "outputs": []
    },
    {
      "cell_type": "code",
      "metadata": {
        "id": "2HHd0VqMAE7T",
        "colab_type": "code",
        "colab": {}
      },
      "source": [
        "def add(v: Vector , w:Vector) -> Vector:\n",
        "  assert len(v) == len(w) , \"vectors must be of the same length\"\n",
        "  return [v_i + w_i for (v_i , w_i ) in zip(v,w)]\n",
        "assert add([1, 2, 3], [4, 5, 6]) == [5, 7, 9]"
      ],
      "execution_count": null,
      "outputs": []
    },
    {
      "cell_type": "code",
      "metadata": {
        "id": "zo0Qt_wiDWBS",
        "colab_type": "code",
        "colab": {}
      },
      "source": [
        "def subtract(v: Vector , w:Vector) -> Vector:\n",
        "  assert len(v) == len(w) , \"vectors must be of the same length\"\n",
        "  return [v_i - w_i for (v_i , w_i ) in zip(v,w)]\n",
        "assert subtract([5, 7, 9], [4, 5, 6]) == [1,2,3]"
      ],
      "execution_count": null,
      "outputs": []
    },
    {
      "cell_type": "code",
      "metadata": {
        "id": "fcMCmqGbDnCm",
        "colab_type": "code",
        "colab": {}
      },
      "source": [
        "def vector_sum(vectors: List[Vector]) -> Vector:\n",
        "  assert vectors, \"no vectors provided\"\n",
        " \n",
        "  num_elements = len(vectors[0])\n",
        "  assert all(len(v) == num_elements for v in vectors) , \"different sizes\"\n",
        "  return [sum(vector[i] for vector in vectors)\n",
        "   for i in range(num_elements)]\n",
        "assert vector_sum([[1,2], [3,4] , [5, 6], [7,8]]) == [16,20]"
      ],
      "execution_count": null,
      "outputs": []
    },
    {
      "cell_type": "markdown",
      "metadata": {
        "id": "FYwZUgI0Hm52",
        "colab_type": "text"
      },
      "source": [
        "multiply vector by a scalar"
      ]
    },
    {
      "cell_type": "code",
      "metadata": {
        "id": "BUTWVMQ9HrdJ",
        "colab_type": "code",
        "colab": {}
      },
      "source": [
        "def scalar_multiply(c: float, v:Vector) -> Vector:\n",
        "  return [c * v_i for v_i in v]\n",
        "assert scalar_multiply(2, [1,2]) == [2, 4] "
      ],
      "execution_count": null,
      "outputs": []
    },
    {
      "cell_type": "markdown",
      "metadata": {
        "id": "-ti4EQF6IQ0D",
        "colab_type": "text"
      },
      "source": [
        "elementwise average"
      ]
    },
    {
      "cell_type": "code",
      "metadata": {
        "id": "vsJO5fY9ITEe",
        "colab_type": "code",
        "colab": {}
      },
      "source": [
        "def vector_mean(vectors:List[Vector]) -> Vector:\n",
        "  num_elements = len(vectors)\n",
        "  return scalar_multiply(1/num_elements, vector_sum(vectors))\n",
        "assert vector_mean([[1,2], [3,4] , [5,6]]) == [3, 4] "
      ],
      "execution_count": null,
      "outputs": []
    },
    {
      "cell_type": "markdown",
      "metadata": {
        "id": "n8Q0LnLiMbwx",
        "colab_type": "text"
      },
      "source": [
        "dot product"
      ]
    },
    {
      "cell_type": "code",
      "metadata": {
        "id": "ly0kMyHYMeF-",
        "colab_type": "code",
        "colab": {}
      },
      "source": [
        "def dot(v: Vector , w:Vector) -> Vector:\n",
        "  assert len(v) == len(w) , \"different sizes\"\n",
        "  return (sum(v_i * w_i for(v_i, w_i) in zip(v,w)) )\n",
        "assert dot([1,2,3] , [4, 5, 6]) == 32"
      ],
      "execution_count": null,
      "outputs": []
    },
    {
      "cell_type": "markdown",
      "metadata": {
        "id": "-H8tC7PEysPE",
        "colab_type": "text"
      },
      "source": [
        "sum of squares"
      ]
    },
    {
      "cell_type": "code",
      "metadata": {
        "id": "93n1Wx6yy_AH",
        "colab_type": "code",
        "colab": {}
      },
      "source": [
        "def sum_of_squares(v: Vector) -> float:\n",
        "  \"return the v_1* v_1 + .....+ vn * vn\"\n",
        "  return dot(v , v)\n",
        "assert sum_of_squares([1, 2, 3]) == 14"
      ],
      "execution_count": null,
      "outputs": []
    },
    {
      "cell_type": "markdown",
      "metadata": {
        "id": "TqsHByS3zx9N",
        "colab_type": "text"
      },
      "source": [
        "magnitude of a vector which is square root of the sum of the squares of the vector"
      ]
    },
    {
      "cell_type": "code",
      "metadata": {
        "id": "OjpyFlREz0nj",
        "colab_type": "code",
        "colab": {}
      },
      "source": [
        "import math\n",
        "def magnitude(v : Vector) -> float:\n",
        "  return math.sqrt(sum_of_squares(v))\n",
        "assert magnitude([3, 4]) == 5"
      ],
      "execution_count": null,
      "outputs": []
    },
    {
      "cell_type": "markdown",
      "metadata": {
        "id": "Gh1N3s3c0liP",
        "colab_type": "text"
      },
      "source": [
        "distance between two vector is the square root of the sum of the  squared values of all the componenets ![determination](https://raw.githubusercontent.com/gopalakrishna-r/datascience_with_python/master/resources/Screenshot_20200723-185004_Drive.jpg)![calculation](https://raw.githubusercontent.com/gopalakrishna-r/datascience_with_python/master/resources/Screenshot_20200723-185104_Drive.jpg)"
      ]
    },
    {
      "cell_type": "code",
      "metadata": {
        "id": "BbjA4Otu5yTJ",
        "colab_type": "code",
        "colab": {}
      },
      "source": [
        "def squared_distance(v: Vector, w: Vector) -> float:\n",
        "  return sum_of_squares(subtract(v, w))\n",
        "\n",
        "def distance(v: Vector, w: Vector) -> float:\n",
        "  return math.sqrt(squared_distance(v, w)) # or magnitude(squared_distance(v, w)))"
      ],
      "execution_count": null,
      "outputs": []
    },
    {
      "cell_type": "markdown",
      "metadata": {
        "id": "DVpI73D48qO8",
        "colab_type": "text"
      },
      "source": [
        "# matrices"
      ]
    },
    {
      "cell_type": "code",
      "metadata": {
        "id": "b9NbDRZZogsx",
        "colab_type": "code",
        "colab": {}
      },
      "source": [
        "from typing import List\n",
        "Matrix = List[List[float]]"
      ],
      "execution_count": null,
      "outputs": []
    },
    {
      "cell_type": "code",
      "metadata": {
        "id": "PE56eiDZorIn",
        "colab_type": "code",
        "colab": {}
      },
      "source": [
        "A = [[1 , 2, 3 ],\n",
        "     [4, 5, 6]] #matrix has 2 rows and 3 columns\n",
        "\n",
        "B = [[1, 2],\n",
        "     [3, 4],\n",
        "     [5, 6]]# matrix with 3 rows and 2 columns\n"
      ],
      "execution_count": null,
      "outputs": []
    },
    {
      "cell_type": "code",
      "metadata": {
        "id": "EL3cCMAUqH21",
        "colab_type": "code",
        "colab": {}
      },
      "source": [
        "from typing import Tuple\n",
        "def shape(A: Matrix) -> Tuple[int, int]:\n",
        "  \"returns # of rows of A, # of columns of A\"\n",
        "  num_rows = len(A)\n",
        "  num_columns = len(A[0]) if A else 0\n",
        "  return num_rows, num_columns\n",
        "\n",
        "assert shape([[1 , 2, 3 ],[4, 5, 6]]) == (2, 3)"
      ],
      "execution_count": null,
      "outputs": []
    },
    {
      "cell_type": "code",
      "metadata": {
        "id": "qje3UTiItDh2",
        "colab_type": "code",
        "colab": {}
      },
      "source": [
        "def getrow(a: Matrix, i: int) -> Vector:\n",
        "  \"\"\"returns the ith row from the matrix\"\"\"\n",
        "  return a[i]\n",
        "\n",
        "def getcolumn(A: Matrix, j: int) -> Vector:\n",
        "  \"\"\"returns the ith row from the matrix\"\"\"\n",
        "  return [A_i[j] for A_i in A]"
      ],
      "execution_count": null,
      "outputs": []
    },
    {
      "cell_type": "markdown",
      "metadata": {
        "id": "J68kvPz72KJS",
        "colab_type": "text"
      },
      "source": [
        "create a matrix by using callable "
      ]
    },
    {
      "cell_type": "code",
      "metadata": {
        "id": "DQ9Ygzu8tDVh",
        "colab_type": "code",
        "colab": {}
      },
      "source": [
        "from typing import Callable\n",
        "def make_matrix(num_rows: int, \n",
        "                num_cols: int, \n",
        "                entry_fn: Callable[[int, int], float]) -> Matrix: \n",
        "  \"\"\"\n",
        "  Returns a num_rows x num_cols matrix whose(i, j) th entry is entry_fn(i,j)\n",
        "  \"\"\"\n",
        "  return [entry_fn(i, j) \n",
        "         for j in range(num_cols)\n",
        "         for i in range(num_rows)\n",
        "  ]\n",
        "\n",
        "def identity_matrix(n: int) -> Matrix:\n",
        "  \"\"\" returns nxn identity matrix\"\"\"\n",
        "  return make_matrix(n,n, lambda i, j: 1 if i==j else 0 )\n",
        "\n",
        "  assert(identity_matrix(5)) == [[1, 0, 0, 0, 0],\n",
        "                                 [0, 1, 0, 0, 0], \n",
        "                                 [0, 0, 1, 0, 0],\n",
        "                                 [0, 0, 0, 1, 0],\n",
        "                                 [0, 0, 0, 0, 1]                                 \n",
        "                                 ]\n"
      ],
      "execution_count": null,
      "outputs": []
    }
  ]
}