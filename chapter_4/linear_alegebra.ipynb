{
 "cells": [
  {
   "cell_type": "markdown",
   "metadata": {
    "colab_type": "text",
    "id": "OhT8pRUJ8fuE"
   },
   "source": [
    "# vectors"
   ]
  },
  {
   "cell_type": "code",
   "execution_count": 1,
   "metadata": {
    "colab": {},
    "colab_type": "code",
    "id": "JZujhm03_r5f"
   },
   "outputs": [],
   "source": [
    "from typing import List\n",
    "Vector = List[float]\n",
    "height_weight_age = [70, #inches\n",
    "                     170, #pounds\n",
    "                     40] #years\n",
    "grades = [95, #exam 1\n",
    "          89, #exam2\n",
    "          75, #exam3\n",
    "          62] #exam4\n"
   ]
  },
  {
   "cell_type": "code",
   "execution_count": 2,
   "metadata": {
    "colab": {},
    "colab_type": "code",
    "id": "2HHd0VqMAE7T"
   },
   "outputs": [],
   "source": [
    "def add(v: Vector , w:Vector) -> Vector:\n",
    "  assert len(v) == len(w) , \"vectors must be of the same length\"\n",
    "  return [v_i + w_i for (v_i , w_i ) in zip(v,w)]\n",
    "assert add([1, 2, 3], [4, 5, 6]) == [5, 7, 9]"
   ]
  },
  {
   "cell_type": "code",
   "execution_count": 3,
   "metadata": {
    "colab": {},
    "colab_type": "code",
    "id": "zo0Qt_wiDWBS"
   },
   "outputs": [],
   "source": [
    "def subtract(v: Vector , w:Vector) -> Vector:\n",
    "  assert len(v) == len(w) , \"vectors must be of the same length\"\n",
    "  return [v_i - w_i for (v_i , w_i ) in zip(v,w)]\n",
    "assert subtract([5, 7, 9], [4, 5, 6]) == [1,2,3]"
   ]
  },
  {
   "cell_type": "code",
   "execution_count": 4,
   "metadata": {
    "colab": {},
    "colab_type": "code",
    "id": "fcMCmqGbDnCm"
   },
   "outputs": [],
   "source": [
    "def vector_sum(vectors: List[Vector]) -> Vector:\n",
    "  assert vectors, \"no vectors provided\"\n",
    " \n",
    "  num_elements = len(vectors[0])\n",
    "  assert all(len(v) == num_elements for v in vectors) , \"different sizes\"\n",
    "  return [sum(vector[i] for vector in vectors)\n",
    "   for i in range(num_elements)]\n",
    "assert vector_sum([[1,2], [3,4] , [5, 6], [7,8]]) == [16,20]"
   ]
  },
  {
   "cell_type": "markdown",
   "metadata": {
    "colab_type": "text",
    "id": "FYwZUgI0Hm52"
   },
   "source": [
    "multiply vector by a scalar"
   ]
  },
  {
   "cell_type": "code",
   "execution_count": 5,
   "metadata": {
    "colab": {},
    "colab_type": "code",
    "id": "BUTWVMQ9HrdJ"
   },
   "outputs": [],
   "source": [
    "def scalar_multiply(c: float, v:Vector) -> Vector:\n",
    "  return [c * v_i for v_i in v]\n",
    "assert scalar_multiply(2, [1,2]) == [2, 4] "
   ]
  },
  {
   "cell_type": "markdown",
   "metadata": {
    "colab_type": "text",
    "id": "-ti4EQF6IQ0D"
   },
   "source": [
    "elementwise average"
   ]
  },
  {
   "cell_type": "code",
   "execution_count": 6,
   "metadata": {
    "colab": {},
    "colab_type": "code",
    "id": "vsJO5fY9ITEe"
   },
   "outputs": [],
   "source": [
    "def vector_mean(vectors:List[Vector]) -> Vector:\n",
    "  num_elements = len(vectors)\n",
    "  return scalar_multiply(1/num_elements, vector_sum(vectors))\n",
    "assert vector_mean([[1,2], [3,4] , [5,6]]) == [3, 4] "
   ]
  },
  {
   "cell_type": "markdown",
   "metadata": {
    "colab_type": "text",
    "id": "n8Q0LnLiMbwx"
   },
   "source": [
    "dot product"
   ]
  },
  {
   "cell_type": "code",
   "execution_count": 7,
   "metadata": {
    "colab": {},
    "colab_type": "code",
    "id": "ly0kMyHYMeF-"
   },
   "outputs": [],
   "source": [
    "def dot(v: Vector , w:Vector) -> Vector:\n",
    "  assert len(v) == len(w) , \"different sizes\"\n",
    "  return (sum(v_i * w_i for(v_i, w_i) in zip(v,w)) )\n",
    "assert dot([1,2,3] , [4, 5, 6]) == 32"
   ]
  },
  {
   "cell_type": "markdown",
   "metadata": {
    "colab_type": "text",
    "id": "-H8tC7PEysPE"
   },
   "source": [
    "sum of squares"
   ]
  },
  {
   "cell_type": "code",
   "execution_count": 8,
   "metadata": {
    "colab": {},
    "colab_type": "code",
    "id": "93n1Wx6yy_AH"
   },
   "outputs": [],
   "source": [
    "def sum_of_squares(v: Vector) -> float:\n",
    "  \"return the v_1* v_1 + .....+ vn * vn\"\n",
    "  return dot(v , v)\n",
    "assert sum_of_squares([1, 2, 3]) == 14"
   ]
  },
  {
   "cell_type": "markdown",
   "metadata": {
    "colab_type": "text",
    "id": "TqsHByS3zx9N"
   },
   "source": [
    "magnitude of a vector which is square root of the sum of the squares of the vector"
   ]
  },
  {
   "cell_type": "code",
   "execution_count": 9,
   "metadata": {
    "colab": {},
    "colab_type": "code",
    "id": "OjpyFlREz0nj"
   },
   "outputs": [],
   "source": [
    "import math\n",
    "def magnitude(v : Vector) -> float:\n",
    "  return math.sqrt(sum_of_squares(v))\n",
    "assert magnitude([3, 4]) == 5"
   ]
  },
  {
   "cell_type": "markdown",
   "metadata": {
    "colab_type": "text",
    "id": "Gh1N3s3c0liP"
   },
   "source": [
    "distance between two vector is the square root of the sum of the  squared values of all the componenets ![determination](https://raw.githubusercontent.com/gopalakrishna-r/datascience_with_python/master/resources/Screenshot_20200723-185004_Drive.jpg)![calculation](https://raw.githubusercontent.com/gopalakrishna-r/datascience_with_python/master/resources/Screenshot_20200723-185104_Drive.jpg)"
   ]
  },
  {
   "cell_type": "code",
   "execution_count": 10,
   "metadata": {
    "colab": {},
    "colab_type": "code",
    "id": "BbjA4Otu5yTJ"
   },
   "outputs": [],
   "source": [
    "def squared_distance(v: Vector, w: Vector) -> float:\n",
    "  return sum_of_squares(subtract(v, w))\n",
    "\n",
    "def distance(v: Vector, w: Vector) -> float:\n",
    "  return math.sqrt(squared_distance(v, w)) # or magnitude(squared_distance(v, w)))"
   ]
  },
  {
   "cell_type": "markdown",
   "metadata": {
    "colab_type": "text",
    "id": "DVpI73D48qO8"
   },
   "source": [
    "# matrices"
   ]
  },
  {
   "cell_type": "code",
   "execution_count": 11,
   "metadata": {
    "colab": {},
    "colab_type": "code",
    "id": "b9NbDRZZogsx"
   },
   "outputs": [],
   "source": [
    "from typing import List\n",
    "Matrix = List[List[float]]"
   ]
  },
  {
   "cell_type": "code",
   "execution_count": 12,
   "metadata": {
    "colab": {},
    "colab_type": "code",
    "id": "PE56eiDZorIn"
   },
   "outputs": [],
   "source": [
    "A = [[1 , 2, 3 ],\n",
    "     [4, 5, 6]] #matrix has 2 rows and 3 columns\n",
    "\n",
    "B = [[1, 2],\n",
    "     [3, 4],\n",
    "     [5, 6]]# matrix with 3 rows and 2 columns\n"
   ]
  },
  {
   "cell_type": "code",
   "execution_count": 13,
   "metadata": {
    "colab": {},
    "colab_type": "code",
    "id": "EL3cCMAUqH21"
   },
   "outputs": [],
   "source": [
    "from typing import Tuple\n",
    "def shape(A: Matrix) -> Tuple[int, int]:\n",
    "  \"returns # of rows of A, # of columns of A\"\n",
    "  num_rows = len(A)\n",
    "  num_columns = len(A[0]) if A else 0\n",
    "  return num_rows, num_columns\n",
    "\n",
    "assert shape([[1 , 2, 3 ],[4, 5, 6]]) == (2, 3)"
   ]
  },
  {
   "cell_type": "code",
   "execution_count": 14,
   "metadata": {
    "colab": {},
    "colab_type": "code",
    "id": "qje3UTiItDh2"
   },
   "outputs": [],
   "source": [
    "def getrow(a: Matrix, i: int) -> Vector:\n",
    "  \"\"\"returns the ith row from the matrix\"\"\"\n",
    "  return a[i]\n",
    "\n",
    "def getcolumn(A: Matrix, j: int) -> Vector:\n",
    "  \"\"\"returns the ith row from the matrix\"\"\"\n",
    "  return [A_i[j] for A_i in A]"
   ]
  },
  {
   "cell_type": "markdown",
   "metadata": {
    "colab_type": "text",
    "id": "J68kvPz72KJS"
   },
   "source": [
    "create a matrix by using callable "
   ]
  },
  {
   "cell_type": "code",
   "execution_count": 15,
   "metadata": {
    "colab": {},
    "colab_type": "code",
    "id": "DQ9Ygzu8tDVh"
   },
   "outputs": [],
   "source": [
    "from typing import Callable\n",
    "def make_matrix(num_rows: int, \n",
    "                num_cols: int, \n",
    "                entry_fn: Callable[[int, int], float]) -> Matrix: \n",
    "  \"\"\"\n",
    "  Returns a num_rows x num_cols matrix whose(i, j) th entry is entry_fn(i,j)\n",
    "  \"\"\"\n",
    "  return [entry_fn(i, j) \n",
    "         for j in range(num_cols)\n",
    "         for i in range(num_rows)\n",
    "  ]\n",
    "\n",
    "def identity_matrix(n: int) -> Matrix:\n",
    "  \"\"\" returns nxn identity matrix\"\"\"\n",
    "  return make_matrix(n,n, lambda i, j: 1 if i==j else 0 )\n",
    "\n",
    "  assert(identity_matrix(5)) == [[1, 0, 0, 0, 0],\n",
    "                                 [0, 1, 0, 0, 0], \n",
    "                                 [0, 0, 1, 0, 0],\n",
    "                                 [0, 0, 0, 1, 0],\n",
    "                                 [0, 0, 0, 0, 1]                                 \n",
    "                                 ]\n"
   ]
  }
 ],
 "metadata": {
  "colab": {
   "collapsed_sections": [],
   "name": "linear_alegebra",
   "provenance": [],
   "toc_visible": true
  },
  "kernelspec": {
   "display_name": "Python 3",
   "language": "python",
   "name": "python3"
  },
  "language_info": {
   "codemirror_mode": {
    "name": "ipython",
    "version": 3
   },
   "file_extension": ".py",
   "mimetype": "text/x-python",
   "name": "python",
   "nbconvert_exporter": "python",
   "pygments_lexer": "ipython3",
   "version": "3.7.7"
  }
 },
 "nbformat": 4,
 "nbformat_minor": 1
}
